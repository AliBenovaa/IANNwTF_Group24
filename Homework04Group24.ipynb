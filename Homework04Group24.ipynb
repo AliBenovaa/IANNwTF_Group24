{
  "nbformat": 4,
  "nbformat_minor": 0,
  "metadata": {
    "colab": {
      "provenance": [],
      "include_colab_link": true
    },
    "kernelspec": {
      "name": "python3",
      "display_name": "Python 3"
    },
    "language_info": {
      "name": "python"
    },
    "widgets": {
      "application/vnd.jupyter.widget-state+json": {
        "1dead94f18be4630b8cb6856858c63ad": {
          "model_module": "@jupyter-widgets/controls",
          "model_name": "HBoxModel",
          "model_module_version": "1.5.0",
          "state": {
            "_dom_classes": [],
            "_model_module": "@jupyter-widgets/controls",
            "_model_module_version": "1.5.0",
            "_model_name": "HBoxModel",
            "_view_count": null,
            "_view_module": "@jupyter-widgets/controls",
            "_view_module_version": "1.5.0",
            "_view_name": "HBoxView",
            "box_style": "",
            "children": [
              "IPY_MODEL_5e7b0d585fb7476caa7def3ecca20690",
              "IPY_MODEL_08bad0b179c7472c8f43de4d9c6f8551",
              "IPY_MODEL_6a36fd404e264caab345f545be124f12"
            ],
            "layout": "IPY_MODEL_6616c33a95614f558d9dc9b0959941ea"
          }
        },
        "5e7b0d585fb7476caa7def3ecca20690": {
          "model_module": "@jupyter-widgets/controls",
          "model_name": "HTMLModel",
          "model_module_version": "1.5.0",
          "state": {
            "_dom_classes": [],
            "_model_module": "@jupyter-widgets/controls",
            "_model_module_version": "1.5.0",
            "_model_name": "HTMLModel",
            "_view_count": null,
            "_view_module": "@jupyter-widgets/controls",
            "_view_module_version": "1.5.0",
            "_view_name": "HTMLView",
            "description": "",
            "description_tooltip": null,
            "layout": "IPY_MODEL_f049b18797d146b49036b4e583b93e4a",
            "placeholder": "​",
            "style": "IPY_MODEL_65b2dbe617134f52b18c53113bace101",
            "value": "Dl Completed...: 100%"
          }
        },
        "08bad0b179c7472c8f43de4d9c6f8551": {
          "model_module": "@jupyter-widgets/controls",
          "model_name": "FloatProgressModel",
          "model_module_version": "1.5.0",
          "state": {
            "_dom_classes": [],
            "_model_module": "@jupyter-widgets/controls",
            "_model_module_version": "1.5.0",
            "_model_name": "FloatProgressModel",
            "_view_count": null,
            "_view_module": "@jupyter-widgets/controls",
            "_view_module_version": "1.5.0",
            "_view_name": "ProgressView",
            "bar_style": "success",
            "description": "",
            "description_tooltip": null,
            "layout": "IPY_MODEL_5be3e7f6fedd4c70b40345ded97f1495",
            "max": 4,
            "min": 0,
            "orientation": "horizontal",
            "style": "IPY_MODEL_bbcf0ec35d88426b99637722a79cd341",
            "value": 4
          }
        },
        "6a36fd404e264caab345f545be124f12": {
          "model_module": "@jupyter-widgets/controls",
          "model_name": "HTMLModel",
          "model_module_version": "1.5.0",
          "state": {
            "_dom_classes": [],
            "_model_module": "@jupyter-widgets/controls",
            "_model_module_version": "1.5.0",
            "_model_name": "HTMLModel",
            "_view_count": null,
            "_view_module": "@jupyter-widgets/controls",
            "_view_module_version": "1.5.0",
            "_view_name": "HTMLView",
            "description": "",
            "description_tooltip": null,
            "layout": "IPY_MODEL_0f2f6e3a1f5848aa8dd84d62362e9f6c",
            "placeholder": "​",
            "style": "IPY_MODEL_0fb417aa82ff47aa937909db386da739",
            "value": " 4/4 [00:00&lt;00:00, 10.32 file/s]"
          }
        },
        "6616c33a95614f558d9dc9b0959941ea": {
          "model_module": "@jupyter-widgets/base",
          "model_name": "LayoutModel",
          "model_module_version": "1.2.0",
          "state": {
            "_model_module": "@jupyter-widgets/base",
            "_model_module_version": "1.2.0",
            "_model_name": "LayoutModel",
            "_view_count": null,
            "_view_module": "@jupyter-widgets/base",
            "_view_module_version": "1.2.0",
            "_view_name": "LayoutView",
            "align_content": null,
            "align_items": null,
            "align_self": null,
            "border": null,
            "bottom": null,
            "display": null,
            "flex": null,
            "flex_flow": null,
            "grid_area": null,
            "grid_auto_columns": null,
            "grid_auto_flow": null,
            "grid_auto_rows": null,
            "grid_column": null,
            "grid_gap": null,
            "grid_row": null,
            "grid_template_areas": null,
            "grid_template_columns": null,
            "grid_template_rows": null,
            "height": null,
            "justify_content": null,
            "justify_items": null,
            "left": null,
            "margin": null,
            "max_height": null,
            "max_width": null,
            "min_height": null,
            "min_width": null,
            "object_fit": null,
            "object_position": null,
            "order": null,
            "overflow": null,
            "overflow_x": null,
            "overflow_y": null,
            "padding": null,
            "right": null,
            "top": null,
            "visibility": null,
            "width": null
          }
        },
        "f049b18797d146b49036b4e583b93e4a": {
          "model_module": "@jupyter-widgets/base",
          "model_name": "LayoutModel",
          "model_module_version": "1.2.0",
          "state": {
            "_model_module": "@jupyter-widgets/base",
            "_model_module_version": "1.2.0",
            "_model_name": "LayoutModel",
            "_view_count": null,
            "_view_module": "@jupyter-widgets/base",
            "_view_module_version": "1.2.0",
            "_view_name": "LayoutView",
            "align_content": null,
            "align_items": null,
            "align_self": null,
            "border": null,
            "bottom": null,
            "display": null,
            "flex": null,
            "flex_flow": null,
            "grid_area": null,
            "grid_auto_columns": null,
            "grid_auto_flow": null,
            "grid_auto_rows": null,
            "grid_column": null,
            "grid_gap": null,
            "grid_row": null,
            "grid_template_areas": null,
            "grid_template_columns": null,
            "grid_template_rows": null,
            "height": null,
            "justify_content": null,
            "justify_items": null,
            "left": null,
            "margin": null,
            "max_height": null,
            "max_width": null,
            "min_height": null,
            "min_width": null,
            "object_fit": null,
            "object_position": null,
            "order": null,
            "overflow": null,
            "overflow_x": null,
            "overflow_y": null,
            "padding": null,
            "right": null,
            "top": null,
            "visibility": null,
            "width": null
          }
        },
        "65b2dbe617134f52b18c53113bace101": {
          "model_module": "@jupyter-widgets/controls",
          "model_name": "DescriptionStyleModel",
          "model_module_version": "1.5.0",
          "state": {
            "_model_module": "@jupyter-widgets/controls",
            "_model_module_version": "1.5.0",
            "_model_name": "DescriptionStyleModel",
            "_view_count": null,
            "_view_module": "@jupyter-widgets/base",
            "_view_module_version": "1.2.0",
            "_view_name": "StyleView",
            "description_width": ""
          }
        },
        "5be3e7f6fedd4c70b40345ded97f1495": {
          "model_module": "@jupyter-widgets/base",
          "model_name": "LayoutModel",
          "model_module_version": "1.2.0",
          "state": {
            "_model_module": "@jupyter-widgets/base",
            "_model_module_version": "1.2.0",
            "_model_name": "LayoutModel",
            "_view_count": null,
            "_view_module": "@jupyter-widgets/base",
            "_view_module_version": "1.2.0",
            "_view_name": "LayoutView",
            "align_content": null,
            "align_items": null,
            "align_self": null,
            "border": null,
            "bottom": null,
            "display": null,
            "flex": null,
            "flex_flow": null,
            "grid_area": null,
            "grid_auto_columns": null,
            "grid_auto_flow": null,
            "grid_auto_rows": null,
            "grid_column": null,
            "grid_gap": null,
            "grid_row": null,
            "grid_template_areas": null,
            "grid_template_columns": null,
            "grid_template_rows": null,
            "height": null,
            "justify_content": null,
            "justify_items": null,
            "left": null,
            "margin": null,
            "max_height": null,
            "max_width": null,
            "min_height": null,
            "min_width": null,
            "object_fit": null,
            "object_position": null,
            "order": null,
            "overflow": null,
            "overflow_x": null,
            "overflow_y": null,
            "padding": null,
            "right": null,
            "top": null,
            "visibility": null,
            "width": null
          }
        },
        "bbcf0ec35d88426b99637722a79cd341": {
          "model_module": "@jupyter-widgets/controls",
          "model_name": "ProgressStyleModel",
          "model_module_version": "1.5.0",
          "state": {
            "_model_module": "@jupyter-widgets/controls",
            "_model_module_version": "1.5.0",
            "_model_name": "ProgressStyleModel",
            "_view_count": null,
            "_view_module": "@jupyter-widgets/base",
            "_view_module_version": "1.2.0",
            "_view_name": "StyleView",
            "bar_color": null,
            "description_width": ""
          }
        },
        "0f2f6e3a1f5848aa8dd84d62362e9f6c": {
          "model_module": "@jupyter-widgets/base",
          "model_name": "LayoutModel",
          "model_module_version": "1.2.0",
          "state": {
            "_model_module": "@jupyter-widgets/base",
            "_model_module_version": "1.2.0",
            "_model_name": "LayoutModel",
            "_view_count": null,
            "_view_module": "@jupyter-widgets/base",
            "_view_module_version": "1.2.0",
            "_view_name": "LayoutView",
            "align_content": null,
            "align_items": null,
            "align_self": null,
            "border": null,
            "bottom": null,
            "display": null,
            "flex": null,
            "flex_flow": null,
            "grid_area": null,
            "grid_auto_columns": null,
            "grid_auto_flow": null,
            "grid_auto_rows": null,
            "grid_column": null,
            "grid_gap": null,
            "grid_row": null,
            "grid_template_areas": null,
            "grid_template_columns": null,
            "grid_template_rows": null,
            "height": null,
            "justify_content": null,
            "justify_items": null,
            "left": null,
            "margin": null,
            "max_height": null,
            "max_width": null,
            "min_height": null,
            "min_width": null,
            "object_fit": null,
            "object_position": null,
            "order": null,
            "overflow": null,
            "overflow_x": null,
            "overflow_y": null,
            "padding": null,
            "right": null,
            "top": null,
            "visibility": null,
            "width": null
          }
        },
        "0fb417aa82ff47aa937909db386da739": {
          "model_module": "@jupyter-widgets/controls",
          "model_name": "DescriptionStyleModel",
          "model_module_version": "1.5.0",
          "state": {
            "_model_module": "@jupyter-widgets/controls",
            "_model_module_version": "1.5.0",
            "_model_name": "DescriptionStyleModel",
            "_view_count": null,
            "_view_module": "@jupyter-widgets/base",
            "_view_module_version": "1.2.0",
            "_view_name": "StyleView",
            "description_width": ""
          }
        }
      }
    }
  },
  "cells": [
    {
      "cell_type": "markdown",
      "metadata": {
        "id": "view-in-github",
        "colab_type": "text"
      },
      "source": [
        "<a href=\"https://colab.research.google.com/github/AliBenovaa/IANNwTF_Group24/blob/main/Homework04Group24.ipynb\" target=\"_parent\"><img src=\"https://colab.research.google.com/assets/colab-badge.svg\" alt=\"Open In Colab\"/></a>"
      ]
    },
    {
      "cell_type": "code",
      "execution_count": 1,
      "metadata": {
        "colab": {
          "base_uri": "https://localhost:8080/",
          "height": 101,
          "referenced_widgets": [
            "1dead94f18be4630b8cb6856858c63ad",
            "5e7b0d585fb7476caa7def3ecca20690",
            "08bad0b179c7472c8f43de4d9c6f8551",
            "6a36fd404e264caab345f545be124f12",
            "6616c33a95614f558d9dc9b0959941ea",
            "f049b18797d146b49036b4e583b93e4a",
            "65b2dbe617134f52b18c53113bace101",
            "5be3e7f6fedd4c70b40345ded97f1495",
            "bbcf0ec35d88426b99637722a79cd341",
            "0f2f6e3a1f5848aa8dd84d62362e9f6c",
            "0fb417aa82ff47aa937909db386da739"
          ]
        },
        "id": "-JCY98nVht9x",
        "outputId": "dea8b0b5-6d3d-4311-9fb9-e1e937617e0d"
      },
      "outputs": [
        {
          "output_type": "stream",
          "name": "stdout",
          "text": [
            "Downloading and preparing dataset 11.06 MiB (download: 11.06 MiB, generated: 21.00 MiB, total: 32.06 MiB) to ~/tensorflow_datasets/mnist/3.0.1...\n"
          ]
        },
        {
          "output_type": "display_data",
          "data": {
            "text/plain": [
              "Dl Completed...:   0%|          | 0/4 [00:00<?, ? file/s]"
            ],
            "application/vnd.jupyter.widget-view+json": {
              "version_major": 2,
              "version_minor": 0,
              "model_id": "1dead94f18be4630b8cb6856858c63ad"
            }
          },
          "metadata": {}
        },
        {
          "output_type": "stream",
          "name": "stdout",
          "text": [
            "Dataset mnist downloaded and prepared to ~/tensorflow_datasets/mnist/3.0.1. Subsequent calls will reuse this data.\n",
            "(32, 784) (32, 784) (32,)\n"
          ]
        }
      ],
      "source": [
        "import tensorflow as tf\n",
        "import tensorflow_datasets as tfds\n",
        "import datetime\n",
        "import numpy as np\n",
        "import tqdm \n",
        "import matplotlib as plt\n",
        "\n",
        "\n",
        "# 1. get mnist from tensorflow_datasets\n",
        "mnist = tfds.load(\"mnist\", split =[\"train\",\"test\"], as_supervised=True)\n",
        "\n",
        "train_ds = mnist[0]\n",
        "val_ds = mnist[1]\n",
        "\n",
        "train_ds2 =mnist[0]\n",
        "val_ds2 = mnist[1]\n",
        "\n",
        "\n",
        "# 2. write function to create the dataset that we want\n",
        "def preprocess(data, batch_size,condition):\n",
        "    # image should be float\n",
        "    data = data.map(lambda x, t: (tf.cast(x, float), t))\n",
        "    # image should be flattened\n",
        "    data = data.map(lambda x, t: (tf.reshape(x, (-1,)), t))\n",
        "    # image vector will here have values between -1 and 1\n",
        "    data = data.map(lambda x,t: ((x/128.)-1., t))\n",
        "    # we want to have two mnist images in each example\n",
        "    # this leads to a single example being ((x1,y1),(x2,y2))\n",
        "    zipped_ds = tf.data.Dataset.zip((data.shuffle(2000), \n",
        "                                     data.shuffle(2000)))\n",
        "    \n",
        "    if (condition == \"bigger_5\"):\n",
        "        # map ((x1,y1),(x2,y2)) to (x1,x2, x1+x2>=5*) *boolean\n",
        "        zipped_ds = zipped_ds.map(lambda x1, x2: (x1[0], x2[0], x1[1]+x2[1]>=5))\n",
        "        # transform boolean target to int\n",
        "        zipped_ds = zipped_ds.map(lambda x1, x2, t: (x1,x2, tf.cast(t, tf.int32)))\n",
        "    elif (condition==\"minus\"):\n",
        "        # map ((x1,y1),(x2,y2)) to (x1,x2, x1-x2=y1*) *integer\n",
        "        zipped_ds = zipped_ds.map(lambda x1, x2: (x1[0], x2[0], x1[1]-x2[1]))\n",
        "        # transform boolean target to int\n",
        "        zipped_ds = zipped_ds.map(lambda x1, x2, t: (x1,x2, tf.cast(t, tf.float32)))\n",
        "    \n",
        "    # batch the dataset\n",
        "    zipped_ds = zipped_ds.batch(batch_size)\n",
        "    # prefetch\n",
        "    zipped_ds = zipped_ds.prefetch(tf.data.AUTOTUNE)\n",
        "    return zipped_ds\n",
        "\n",
        "train_ds = preprocess(train_ds, batch_size=32,condition = \"bigger_5\") \n",
        "val_ds = preprocess(val_ds, batch_size=32, condition=\"bigger_5\" ) \n",
        "\n",
        "train_ds2 = preprocess(train_ds2, batch_size=32,condition = \"minus\") \n",
        "val_ds2 = preprocess(val_ds2, batch_size=32, condition=\"minus\" )\n",
        "\n",
        "\n",
        "#checking\n",
        "for img1, img2, label in train_ds.take(1):\n",
        "    print(img1.shape, img2.shape, label.shape)\n",
        "\n",
        "\n",
        "\n",
        "\n",
        "\n",
        "    "
      ]
    },
    {
      "cell_type": "code",
      "source": [
        "class TwinMNISTModel(tf.keras.Model):\n",
        "\n",
        "    # 1. constructor\n",
        "    def __init__(self,optimizer,loss_function,train_ds,test_ds):\n",
        "        super().__init__()\n",
        "        # inherit functionality from parent class\n",
        "\n",
        "        # optimizer, loss function and metrics\n",
        "        self.metrics_list = [tf.keras.metrics.BinaryAccuracy(),\n",
        "                             tf.keras.metrics.Mean(name=\"loss\")]\n",
        "        \n",
        "        self.optimizer = tf.keras.optimizers.Adam()\n",
        "        \n",
        "        self.loss_function = loss_function\n",
        "\n",
        "      \n",
        "        \n",
        "        # layers to be used with activation functions\n",
        "        self.dense1 = tf.keras.layers.Dense(32, activation=tf.nn.relu)\n",
        "        self.dense2 = tf.keras.layers.Dense(32, activation=tf.nn.relu)\n",
        "        \n",
        "        self.out_layer = tf.keras.layers.Dense(1,activation=tf.nn.sigmoid)\n",
        "\n",
        "        \n",
        "        \n",
        "    # 2. call method (forward computation)\n",
        "    def call(self, images, training=False):\n",
        "        img1, img2 = images\n",
        "        \n",
        "        img1_x = self.dense1(img1)\n",
        "        img1_x = self.dense2(img1_x)\n",
        "        \n",
        "        img2_x = self.dense1(img2)\n",
        "        img2_x = self.dense2(img2_x)\n",
        "        \n",
        "        combined_x = tf.concat([img1_x, img2_x ], axis=1)\n",
        "        \n",
        "        return self.out_layer(combined_x)\n",
        "\n",
        "    \n",
        "\n",
        "    # 3. metrics property\n",
        "    @property\n",
        "    def metrics(self):\n",
        "        return self.metrics_list\n",
        "        # return a list with all metrics in the model\n",
        "\n",
        "\n",
        "\n",
        "    # 4. reset all metrics objects\n",
        "    def reset_metrics(self):\n",
        "        for metric in self.metrics:\n",
        "            metric.reset_states()\n",
        "\n",
        "\n",
        "    #train_step method\n",
        "    @tf.function\n",
        "    def train_step(self, data):\n",
        "        img1, img2, label = data\n",
        "        \n",
        "        with tf.GradientTape() as tape:\n",
        "            output = self((img1, img2), training=True)\n",
        "            loss = self.loss_function(label, output)\n",
        "    \n",
        "            \n",
        "        gradients = tape.gradient(loss, self.trainable_variables)\n",
        "        \n",
        "        self.optimizer.apply_gradients(zip(gradients,self.trainable_variables))\n",
        "        \n",
        "        # update the state of the metrics according to loss\n",
        "        self.metrics[0].update_state(label, output)\n",
        "        self.metrics[1].update_state(loss)\n",
        "        \n",
        "        # return a dictionary with metric names as keys and metric results as values\n",
        "        return {m.name : m.result() for m in self.metrics}\n",
        "\n",
        "\n",
        "        \n",
        "\n",
        "   # 6. test_step method\n",
        "    @tf.function\n",
        "    def test_step(self, data):\n",
        "        img1, img2, label = data\n",
        "        # same as train step (without parameter updates)\n",
        "        output = self((img1, img2), training=False)\n",
        "        loss = self.loss_function(label, output)\n",
        "        self.metrics[0].update_state(label, output)\n",
        "        self.metrics[1].update_state(loss)\n",
        "        \n",
        "        return {m.name : m.result() for m in self.metrics}\n",
        "\n",
        "\n",
        "\n",
        "\n",
        "    "
      ],
      "metadata": {
        "id": "d67GJivZln4y"
      },
      "execution_count": 17,
      "outputs": []
    },
    {
      "cell_type": "code",
      "source": [
        "\n",
        "def training_loop(subtask,train_ds, test_ds):\n",
        "\n",
        "  #items for visualization\n",
        "  train = np.empty(0)\n",
        "  test = np.empty(0)\n",
        "  \n",
        "  \n",
        "  if subtask == \"minus\":\n",
        "    model  = TwinMNISTModel(tf.keras.optimizers.Adam,tf.keras.losses.MeanSquaredError(),train_ds,test_ds)\n",
        "\n",
        "  elif subtask == \"bigger_5\":\n",
        "    model = TwinMNISTModel(tf.keras.optimizers.Adam,tf.keras.losses.BinaryCrossentropy(from_logits=True),train_ds,test_ds)\n",
        "\n",
        "  for epoch in range(10):\n",
        "      print(f\"Epoch {epoch}:\")\n",
        "      \n",
        "      # Training:\n",
        "      \n",
        "      for data in tqdm.tqdm(train_ds, position=0, leave=True):\n",
        "          metrics = model.train_step(data)\n",
        "          \n",
        "    \n",
        "          for metric in model.metrics:\n",
        "              tf.summary.scalar(f\"{metric.name}\", metric.result(), step=epoch)\n",
        "\n",
        "      # print the metrics\n",
        "      print([f\"{key}: {value.numpy()}\" for (key, value) in metrics.items()])\n",
        "      #experiments: save into array for later \n",
        "      train = np.append(train,metrics[\"loss\"])\n",
        "      #train_acc = np.append(train_acc,metrics[\"acc\"])\n",
        "      \n",
        "\n",
        "      # reset all metrics (requires a reset_metrics method in the model)\n",
        "      model.reset_metrics()    \n",
        "      \n",
        "      # Testing:\n",
        "      for data in test_ds:\n",
        "          metrics = model.test_step(data)\n",
        "  \n",
        "          for metric in model.metrics:\n",
        "              tf.summary.scalar(f\"{metric.name}\", metric.result(), step=epoch)\n",
        "                  \n",
        "      print([f\"test_{key}: {value.numpy()}\" for (key, value) in metrics.items()])\n",
        "      #experiments: save into array for later \n",
        "      test = np.append(test,metrics[\"loss\"])\n",
        "      #test_acc = np.append(test_acc,metrics[\"acc\"])\n",
        "\n",
        "      # reset all metrics\n",
        "      model.reset_metrics()\n",
        "      print(\"\\n\")\n",
        "  return train,test"
      ],
      "metadata": {
        "id": "sOHe9ABqv_34"
      },
      "execution_count": 26,
      "outputs": []
    },
    {
      "cell_type": "code",
      "source": [
        "import matplotlib.pyplot as plt\n",
        "\n",
        "# 2. pass arguments to training loop function\n",
        "training_loop(\"bigger_5\",train_ds,val_ds)\n",
        "training_loop(\"minus\",train_ds2,val_ds2)\n",
        "\n",
        "\n",
        "\n",
        "\n"
      ],
      "metadata": {
        "colab": {
          "base_uri": "https://localhost:8080/"
        },
        "id": "N6oBS9JbsLuB",
        "outputId": "05b6ccb0-af06-4013-90f4-a4bdd7932200"
      },
      "execution_count": 27,
      "outputs": [
        {
          "output_type": "stream",
          "name": "stdout",
          "text": [
            "Epoch 0:\n"
          ]
        },
        {
          "output_type": "stream",
          "name": "stderr",
          "text": [
            "100%|██████████| 1875/1875 [00:19<00:00, 97.75it/s] \n"
          ]
        },
        {
          "output_type": "stream",
          "name": "stdout",
          "text": [
            "['binary_accuracy: 0.840833306312561', 'loss: 0.4720420837402344']\n",
            "['test_binary_accuracy: 0.8424000144004822', 'test_loss: 0.47081053256988525']\n",
            "\n",
            "\n",
            "Epoch 1:\n"
          ]
        },
        {
          "output_type": "stream",
          "name": "stderr",
          "text": [
            "100%|██████████| 1875/1875 [00:20<00:00, 91.42it/s] \n"
          ]
        },
        {
          "output_type": "stream",
          "name": "stdout",
          "text": [
            "['binary_accuracy: 0.8409000039100647', 'loss: 0.47234994173049927']\n",
            "['test_binary_accuracy: 0.8411999940872192', 'test_loss: 0.47190871834754944']\n",
            "\n",
            "\n",
            "Epoch 2:\n"
          ]
        },
        {
          "output_type": "stream",
          "name": "stderr",
          "text": [
            "100%|██████████| 1875/1875 [00:20<00:00, 91.51it/s] \n"
          ]
        },
        {
          "output_type": "stream",
          "name": "stdout",
          "text": [
            "['binary_accuracy: 0.8424500226974487', 'loss: 0.4708012342453003']\n",
            "['test_binary_accuracy: 0.833299994468689', 'test_loss: 0.4799957871437073']\n",
            "\n",
            "\n",
            "Epoch 3:\n"
          ]
        },
        {
          "output_type": "stream",
          "name": "stderr",
          "text": [
            "100%|██████████| 1875/1875 [00:20<00:00, 91.51it/s] \n"
          ]
        },
        {
          "output_type": "stream",
          "name": "stdout",
          "text": [
            "['binary_accuracy: 0.8418833613395691', 'loss: 0.4713667035102844']\n",
            "['test_binary_accuracy: 0.8355000019073486', 'test_loss: 0.47779932618141174']\n",
            "\n",
            "\n",
            "Epoch 4:\n"
          ]
        },
        {
          "output_type": "stream",
          "name": "stderr",
          "text": [
            "100%|██████████| 1875/1875 [00:40<00:00, 45.77it/s] \n"
          ]
        },
        {
          "output_type": "stream",
          "name": "stdout",
          "text": [
            "['binary_accuracy: 0.8412833213806152', 'loss: 0.47197553515434265']\n",
            "['test_binary_accuracy: 0.8431000113487244', 'test_loss: 0.4702114760875702']\n",
            "\n",
            "\n",
            "Epoch 5:\n"
          ]
        },
        {
          "output_type": "stream",
          "name": "stderr",
          "text": [
            "100%|██████████| 1875/1875 [00:21<00:00, 85.80it/s] \n"
          ]
        },
        {
          "output_type": "stream",
          "name": "stdout",
          "text": [
            "['binary_accuracy: 0.8423166871070862', 'loss: 0.47093334794044495']\n",
            "['test_binary_accuracy: 0.8406999707221985', 'test_loss: 0.4725078046321869']\n",
            "\n",
            "\n",
            "Epoch 6:\n"
          ]
        },
        {
          "output_type": "stream",
          "name": "stderr",
          "text": [
            "100%|██████████| 1875/1875 [00:21<00:00, 86.27it/s] \n"
          ]
        },
        {
          "output_type": "stream",
          "name": "stdout",
          "text": [
            "['binary_accuracy: 0.840399980545044', 'loss: 0.47284993529319763']\n",
            "['test_binary_accuracy: 0.8359000086784363', 'test_loss: 0.47730013728141785']\n",
            "\n",
            "\n",
            "Epoch 7:\n"
          ]
        },
        {
          "output_type": "stream",
          "name": "stderr",
          "text": [
            "100%|██████████| 1875/1875 [00:20<00:00, 91.51it/s] \n"
          ]
        },
        {
          "output_type": "stream",
          "name": "stdout",
          "text": [
            "['binary_accuracy: 0.8402000069618225', 'loss: 0.47304990887641907']\n",
            "['test_binary_accuracy: 0.8421000242233276', 'test_loss: 0.47120988368988037']\n",
            "\n",
            "\n",
            "Epoch 8:\n"
          ]
        },
        {
          "output_type": "stream",
          "name": "stderr",
          "text": [
            "100%|██████████| 1875/1875 [00:19<00:00, 97.50it/s] \n"
          ]
        },
        {
          "output_type": "stream",
          "name": "stdout",
          "text": [
            "['binary_accuracy: 0.8405333161354065', 'loss: 0.4727165699005127']\n",
            "['test_binary_accuracy: 0.8388000130653381', 'test_loss: 0.47450461983680725']\n",
            "\n",
            "\n",
            "Epoch 9:\n"
          ]
        },
        {
          "output_type": "stream",
          "name": "stderr",
          "text": [
            "100%|██████████| 1875/1875 [00:21<00:00, 86.44it/s] \n"
          ]
        },
        {
          "output_type": "stream",
          "name": "stdout",
          "text": [
            "['binary_accuracy: 0.8407166600227356', 'loss: 0.47253331542015076']\n",
            "['test_binary_accuracy: 0.8406999707221985', 'test_loss: 0.4728073179721832']\n",
            "\n",
            "\n",
            "Epoch 0:\n"
          ]
        },
        {
          "output_type": "stream",
          "name": "stderr",
          "text": [
            "100%|██████████| 1875/1875 [00:40<00:00, 45.76it/s] \n"
          ]
        },
        {
          "output_type": "stream",
          "name": "stdout",
          "text": [
            "['binary_accuracy: 0.11694999784231186', 'loss: 14.519569396972656']\n",
            "['test_binary_accuracy: 0.12280000001192093', 'test_loss: 14.250250816345215']\n",
            "\n",
            "\n",
            "Epoch 1:\n"
          ]
        },
        {
          "output_type": "stream",
          "name": "stderr",
          "text": [
            "100%|██████████| 1875/1875 [00:19<00:00, 98.51it/s] \n"
          ]
        },
        {
          "output_type": "stream",
          "name": "stdout",
          "text": [
            "['binary_accuracy: 0.12470000237226486', 'loss: 14.1488618850708']\n",
            "['test_binary_accuracy: 0.1371999979019165', 'test_loss: 13.735511779785156']\n",
            "\n",
            "\n",
            "Epoch 2:\n"
          ]
        },
        {
          "output_type": "stream",
          "name": "stderr",
          "text": [
            "100%|██████████| 1875/1875 [00:17<00:00, 107.29it/s]\n"
          ]
        },
        {
          "output_type": "stream",
          "name": "stdout",
          "text": [
            "['binary_accuracy: 0.12781666219234467', 'loss: 14.09836483001709']\n",
            "['test_binary_accuracy: 0.12309999763965607', 'test_loss: 14.16234016418457']\n",
            "\n",
            "\n",
            "Epoch 3:\n"
          ]
        },
        {
          "output_type": "stream",
          "name": "stderr",
          "text": [
            "100%|██████████| 1875/1875 [00:17<00:00, 104.77it/s]\n"
          ]
        },
        {
          "output_type": "stream",
          "name": "stdout",
          "text": [
            "['binary_accuracy: 0.1287333369255066', 'loss: 14.098254203796387']\n",
            "['test_binary_accuracy: 0.1290999948978424', 'test_loss: 13.978679656982422']\n",
            "\n",
            "\n",
            "Epoch 4:\n"
          ]
        },
        {
          "output_type": "stream",
          "name": "stderr",
          "text": [
            "100%|██████████| 1875/1875 [00:18<00:00, 104.06it/s]\n"
          ]
        },
        {
          "output_type": "stream",
          "name": "stdout",
          "text": [
            "['binary_accuracy: 0.13178333640098572', 'loss: 14.132402420043945']\n",
            "['test_binary_accuracy: 0.1306000053882599', 'test_loss: 14.199557304382324']\n",
            "\n",
            "\n",
            "Epoch 5:\n"
          ]
        },
        {
          "output_type": "stream",
          "name": "stderr",
          "text": [
            "100%|██████████| 1875/1875 [00:20<00:00, 91.51it/s] \n"
          ]
        },
        {
          "output_type": "stream",
          "name": "stdout",
          "text": [
            "['binary_accuracy: 0.13243333995342255', 'loss: 14.081136703491211']\n",
            "['test_binary_accuracy: 0.13619999587535858', 'test_loss: 13.93023681640625']\n",
            "\n",
            "\n",
            "Epoch 6:\n"
          ]
        },
        {
          "output_type": "stream",
          "name": "stderr",
          "text": [
            "100%|██████████| 1875/1875 [00:17<00:00, 108.66it/s]\n"
          ]
        },
        {
          "output_type": "stream",
          "name": "stdout",
          "text": [
            "['binary_accuracy: 0.1336333304643631', 'loss: 13.997218132019043']\n",
            "['test_binary_accuracy: 0.12939999997615814', 'test_loss: 14.125307083129883']\n",
            "\n",
            "\n",
            "Epoch 7:\n"
          ]
        },
        {
          "output_type": "stream",
          "name": "stderr",
          "text": [
            "100%|██████████| 1875/1875 [00:20<00:00, 91.51it/s] \n"
          ]
        },
        {
          "output_type": "stream",
          "name": "stdout",
          "text": [
            "['binary_accuracy: 0.13623332977294922', 'loss: 14.030960083007812']\n",
            "['test_binary_accuracy: 0.13099999725818634', 'test_loss: 14.196012496948242']\n",
            "\n",
            "\n",
            "Epoch 8:\n"
          ]
        },
        {
          "output_type": "stream",
          "name": "stderr",
          "text": [
            "100%|██████████| 1875/1875 [00:19<00:00, 96.16it/s] \n"
          ]
        },
        {
          "output_type": "stream",
          "name": "stdout",
          "text": [
            "['binary_accuracy: 0.13663333654403687', 'loss: 14.093245506286621']\n",
            "['test_binary_accuracy: 0.1331000030040741', 'test_loss: 14.09048843383789']\n",
            "\n",
            "\n",
            "Epoch 9:\n"
          ]
        },
        {
          "output_type": "stream",
          "name": "stderr",
          "text": [
            "100%|██████████| 1875/1875 [00:20<00:00, 91.50it/s] \n"
          ]
        },
        {
          "output_type": "stream",
          "name": "stdout",
          "text": [
            "['binary_accuracy: 0.13893333077430725', 'loss: 14.075468063354492']\n",
            "['test_binary_accuracy: 0.14350000023841858', 'test_loss: 13.903180122375488']\n",
            "\n",
            "\n"
          ]
        },
        {
          "output_type": "execute_result",
          "data": {
            "text/plain": [
              "(array([14.5195694 , 14.14886189, 14.09836483, 14.0982542 , 14.13240242,\n",
              "        14.0811367 , 13.99721813, 14.03096008, 14.09324551, 14.07546806]),\n",
              " array([14.25025082, 13.73551178, 14.16234016, 13.97867966, 14.1995573 ,\n",
              "        13.93023682, 14.12530708, 14.1960125 , 14.09048843, 13.90318012]))"
            ]
          },
          "metadata": {},
          "execution_count": 27
        }
      ]
    },
    {
      "cell_type": "code",
      "source": [],
      "metadata": {
        "id": "UGR6TucO025V"
      },
      "execution_count": 25,
      "outputs": []
    }
  ]
}