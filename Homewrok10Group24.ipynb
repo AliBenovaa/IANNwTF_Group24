{
  "nbformat": 4,
  "nbformat_minor": 0,
  "metadata": {
    "colab": {
      "provenance": [],
      "include_colab_link": true
    },
    "kernelspec": {
      "name": "python3",
      "display_name": "Python 3"
    },
    "language_info": {
      "name": "python"
    },
    "accelerator": "GPU",
    "gpuClass": "standard"
  },
  "cells": [
    {
      "cell_type": "markdown",
      "metadata": {
        "id": "view-in-github",
        "colab_type": "text"
      },
      "source": [
        "<a href=\"https://colab.research.google.com/github/AliBenovaa/IANNwTF_Group24/blob/main/Homewrok10Group24.ipynb\" target=\"_parent\"><img src=\"https://colab.research.google.com/assets/colab-badge.svg\" alt=\"Open In Colab\"/></a>"
      ]
    },
    {
      "cell_type": "code",
      "execution_count": 1,
      "metadata": {
        "id": "qfjLA_a1uvVj"
      },
      "outputs": [],
      "source": [
        "!pip install -q \"tensorflow-text==2.8.*\""
      ]
    },
    {
      "cell_type": "code",
      "source": [
        "# imports\n",
        "import os\n",
        "import tensorflow as tf\n",
        "import re\n",
        "import numpy as np\n",
        "import tensorflow_text as tf_text\n",
        "from collections import Counter\n",
        "import tensorflow as tf\n",
        "import numpy as np\n",
        "import matplotlib.pyplot as plt\n",
        "\n",
        "\n",
        "# define the hyperparameters\n",
        "vocab_size = 10000\n",
        "embedding_size = 64"
      ],
      "metadata": {
        "id": "UbJkQ3h2HuHG"
      },
      "execution_count": 2,
      "outputs": []
    },
    {
      "cell_type": "code",
      "source": [
        "# bash code to mount the drive\n",
        "import os\n",
        "from google.colab import drive\n",
        "drive.mount (\"/content/drive\")\n",
        "os.chdir (\"drive/MyDrive\")\n"
      ],
      "metadata": {
        "colab": {
          "base_uri": "https://localhost:8080/"
        },
        "id": "DxYkF9NRu4th",
        "outputId": "3fa90711-97c8-4df5-a63b-191e6e19613b"
      },
      "execution_count": 3,
      "outputs": [
        {
          "output_type": "stream",
          "name": "stdout",
          "text": [
            "Drive already mounted at /content/drive; to attempt to forcibly remount, call drive.mount(\"/content/drive\", force_remount=True).\n"
          ]
        }
      ]
    },
    {
      "cell_type": "code",
      "source": [
        "# Load text from file\n",
        "with open('bible.txt', 'r') as file:\n",
        "    text = file.read()\n",
        "\n",
        "\n",
        "tokens = text.lower().replace('\\n', ' ').replace('[^\\w\\s]','').split()\n",
        "print(len(tokens))"
      ],
      "metadata": {
        "id": "j9t9VAimfTXx",
        "colab": {
          "base_uri": "https://localhost:8080/"
        },
        "outputId": "bff04ba8-cefe-4dab-c17c-7d3b33cfc302"
      },
      "execution_count": 4,
      "outputs": [
        {
          "output_type": "stream",
          "name": "stdout",
          "text": [
            "821122\n"
          ]
        }
      ]
    },
    {
      "cell_type": "code",
      "source": [
        "from collections import Counter\n",
        "\n",
        "# Load text from file\n",
        "with open('bible.txt', 'r') as file:\n",
        "    text = file.read()\n",
        "\n",
        "\n",
        "text = text.lower().replace('\\n', ' ').replace('[^\\w\\s]','')\n",
        "\n",
        "# Split text into words\n",
        "tokens =tf_text.WhitespaceTokenizer().split(text)\n",
        "\n",
        "#save tokens as list\n",
        "tokens = list(tokens.numpy())\n",
        "#convert the tokens from uft8 to string\n",
        "tokens  = [x.decode('utf8') for x in tokens]\n",
        "\n",
        "# Count frequency of each word\n",
        "word_counts = Counter(tokens)\n",
        "\n",
        "# Keep only the 1000 most common words\n",
        "most_common_words = [word for word, count in word_counts.most_common(1000)]\n",
        "\n",
        "# Assign each word an integer value\n",
        "word_index = {word: i for i, word in enumerate(most_common_words)}\n",
        "\n",
        "# Print word-to-integer mapping\n",
        "print(word_index)\n"
      ],
      "metadata": {
        "colab": {
          "base_uri": "https://localhost:8080/"
        },
        "id": "HmYB7_mu4pP3",
        "outputId": "927bba9f-a8c3-44ca-989a-94d43e1b416d"
      },
      "execution_count": 5,
      "outputs": [
        {
          "output_type": "stream",
          "name": "stdout",
          "text": [
            "{'the': 0, 'and': 1, 'of': 2, 'to': 3, 'that': 4, 'in': 5, 'he': 6, 'shall': 7, 'unto': 8, 'for': 9, 'i': 10, 'his': 11, 'a': 12, 'they': 13, 'be': 14, 'is': 15, 'with': 16, 'not': 17, 'all': 18, 'thou': 19, 'lord': 20, 'it': 21, 'thy': 22, 'was': 23, 'which': 24, 'my': 25, 'but': 26, 'their': 27, 'have': 28, 'ye': 29, 'will': 30, 'from': 31, 'as': 32, 'them': 33, 'him': 34, 'are': 35, 'when': 36, 'upon': 37, 'were': 38, 'this': 39, 'by': 40, 'out': 41, 'god': 42, 'said': 43, 'hath': 44, 'then': 45, 'there': 46, 'him,': 47, 'into': 48, 'had': 49, 'came': 50, 'man': 51, 'on': 52, 'up': 53, 'son': 54, 'one': 55, 'we': 56, 'king': 57, 'me': 58, 'your': 59, 'before': 60, 'lord,': 61, 'an': 62, 'said,': 63, 'against': 64, 'shalt': 65, 'them,': 66, 'come': 67, 'if': 68, 'children': 69, 'at': 70, 'so': 71, 'her': 72, 'thee': 73, 'also': 74, 'let': 75, 'no': 76, 'even': 77, 'made': 78, 'saying,': 79, 'went': 80, 'house': 81, 'go': 82, 'every': 83, 'people': 84, 'do': 85, 'thee,': 86, 'because': 87, 'me,': 88, 'saith': 89, 'you': 90, 'our': 91, 'now': 92, 'these': 93, 'after': 94, 'land': 95, 'behold,': 96, 'men': 97, 'or': 98, 'israel': 99, 'therefore': 100, 'o': 101, 'hast': 102, 'day': 103, 'make': 104, 'god,': 105, 'may': 106, 'what': 107, 'she': 108, 'over': 109, 'who': 110, 'did': 111, 'among': 112, 'put': 113, 'thine': 114, 'any': 115, 'neither': 116, 'great': 117, 'hand': 118, 'give': 119, 'take': 120, 'brought': 121, 'down': 122, 'sons': 123, 'you,': 124, 'am': 125, 'him.': 126, 'us': 127, 'according': 128, 'two': 129, 'things': 130, 'should': 131, 'jesus': 132, 'israel,': 133, 'whom': 134, 'nor': 135, 'took': 136, 'forth': 137, 'bring': 138, 'thus': 139, 'know': 140, 'lord.': 141, 'david': 142, 'them.': 143, 'set': 144, 'yet': 145, 'say': 146, 'like': 147, 'sent': 148, 'name': 149, 'away': 150, 'it,': 151, 'mine': 152, 'called': 153, 'heard': 154, 'own': 155, 'word': 156, 'god.': 157, 'days': 158, 'father': 159, 'how': 160, 'more': 161, 'me.': 162, 'people,': 163, 'spake': 164, 'saw': 165, 'holy': 166, 'good': 167, 'hundred': 168, 'cast': 169, 'eat': 170, 'thee.': 171, 'see': 172, 'moses': 173, 'given': 174, 'than': 175, 'many': 176, 'art': 177, 'heart': 178, 'gave': 179, 'those': 180, 'city': 181, 'seven': 182, 'about': 183, 'would': 184, 'three': 185, 'through': 186, 'evil': 187, 'time': 188, 'might': 189, 'it.': 190, 'man,': 191, 'other': 192, 'speak': 193, 'done': 194, 'thousand': 195, 'pass': 196, 'hear': 197, 'place': 198, 'way': 199, 'pass,': 200, 'house,': 201, 'where': 202, 'under': 203, 'answered': 204, 'again': 205, 'without': 206, 'commanded': 207, 'say,': 208, 'judah': 209, 'and,': 210, 'first': 211, 'words': 212, 'offering': 213, 'thing': 214, 'until': 215, 'off': 216, 'burnt': 217, 'found': 218, 'keep': 219, 'both': 220, 'midst': 221, 'toward': 222, 'spirit': 223, 'israel.': 224, 'high': 225, 'himself': 226, 'years': 227, 'none': 228, 'earth': 229, 'fear': 230, 'voice': 231, 'him:': 232, 'day,': 233, 'five': 234, 'thereof': 235, 'yea,': 236, 'been': 237, 'you.': 238, 'cities': 239, 'wherefore': 240, 'dwell': 241, 'cut': 242, 'lord:': 243, 'right': 244, 'round': 245, 'whose': 246, 'thereof,': 247, 'stood': 248, 'priest': 249, 'son,': 250, 'servant': 251, 'them:': 252, 'us,': 253, 'hand,': 254, 'land,': 255, 'four': 256, 'up,': 257, 'judah,': 258, 'same': 259, 'work': 260, 'lord;': 261, 'pray': 262, 'soul': 263, 'men,': 264, 'deliver': 265, 'taken': 266, 'me:': 267, 'being': 268, 'king,': 269, 'hands': 270, 'young': 271, 'blood': 272, 'cause': 273, \"king's\": 274, 'brethren,': 275, 'sin': 276, 'turn': 277, 'surely': 278, 'twenty': 279, 'eyes': 280, 'told': 281, 'law': 282, 'jerusalem,': 283, 'why': 284, 'face': 285, 'servants': 286, 'fire': 287, 'blessed': 288, 'them;': 289, 'glory': 290, 'left': 291, 'city,': 292, 'her,': 293, 'side': 294, 'themselves': 295, 'turned': 296, 'laid': 297, 'kings': 298, 'delivered': 299, 'old': 300, 'father,': 301, 'not,': 302, 'saul': 303, 'chief': 304, 'very': 305, 'gathered': 306, 'earth,': 307, 'much': 308, 'priests': 309, 'year': 310, 'kingdom': 311, 'moses,': 312, 'christ': 313, 'thee:': 314, 'god;': 315, 'another': 316, 'mighty': 317, 'daughter': 318, 'egypt,': 319, 'such': 320, 'destroy': 321, 'jerusalem': 322, 'concerning': 323, 'drink': 324, 'together': 325, 'woman': 326, 'ten': 327, 'end': 328, 'wilt': 329, 'come,': 330, 'love': 331, 'seek': 332, 'tabernacle': 333, 'lay': 334, 'lest': 335, 'can': 336, 'wicked': 337, 'between': 338, 'seen': 339, 'though': 340, 'full': 341, 'peace': 342, 'smote': 343, 'fell': 344, 'offer': 345, 'whole': 346, 'shew': 347, 'send': 348, 'tribe': 349, 'begat': 350, 'little': 351, 'cometh': 352, 'stand': 353, 'flesh': 354, 'save': 355, 'mouth': 356, 'god:': 357, 'mount': 358, 'fathers': 359, 'meat': 360, 'spoken': 361, 'some': 362, 'praise': 363, 'dwelt': 364, 'him;': 365, 'heaven,': 366, 'heaven': 367, 'thee;': 368, 'tell': 369, 'doth': 370, 'david,': 371, 'aaron': 372, 'solomon': 373, 'seed': 374, 'covenant': 375, 'sight': 376, 'day.': 377, 'heart,': 378, 'rest': 379, 'mercy': 380, 'altar': 381, 'behold': 382, 'bread': 383, 'head': 384, 'inhabitants': 385, 'life': 386, 'bear': 387, 'people.': 388, 'strong': 389, 'thou,': 390, 'brethren': 391, 'written': 392, 'fall': 393, 'offering,': 394, 'earth.': 395, 'return': 396, 'having': 397, 'part': 398, 'serve': 399, 'slew': 400, 'six': 401, 'jacob': 402, 'fathers,': 403, 'brother': 404, 'certain': 405, 'sat': 406, 'gone': 407, 'only': 408, 'princes': 409, 'waters': 410, 'call': 411, 'while': 412, 'known': 413, 'walk': 414, 'not.': 415, 'above': 416, 'things,': 417, 'nations': 418, 'ever.': 419, 'whosoever': 420, 'down,': 421, 'angel': 422, 'cannot': 423, 'congregation': 424, 'wise': 425, 'it:': 426, 'ark': 427, 'me;': 428, 'power': 429, 'water': 430, 'bare': 431, 'well': 432, 'out,': 433, 'began': 434, 'gold,': 435, 'sword': 436, 'hold': 437, 'jerusalem.': 438, 'within': 439, 'till': 440, 'whether': 441, 'book': 442, 'reigned': 443, 'third': 444, 'wherein': 445, 'wife': 446, 'kept': 447, 'multitude': 448, 'sacrifice': 449, 'receive': 450, 'sons,': 451, 'could': 452, 'gate': 453, 'long': 454, 'knew': 455, 'israel:': 456, 'light': 457, 'gather': 458, 'house.': 459, 'throughout': 460, 'judge': 461, 'joshua': 462, 'thirty': 463, 'it;': 464, 'righteous': 465, 'departed': 466, 'passed': 467, 'lifted': 468, 'again,': 469, 'cried': 470, 'forty': 471, 'judgment': 472, 'fruit': 473, 'manner': 474, 'far': 475, 'you:': 476, 'build': 477, 'egypt': 478, 'sea': 479, 'able': 480, 'built': 481, 'place,': 482, 'whatsoever': 483, 'find': 484, 'moreover': 485, 'second': 486, 'together,': 487, 'received': 488, 'lo,': 489, 'also,': 490, 'hand.': 491, 'go,': 492, 'now,': 493, 'therefore,': 494, 'levites': 495, 'gold': 496, 'inheritance': 497, 'new': 498, 'way,': 499, \"father's\": 500, 'near': 501, 'carried': 502, 'jews': 503, 'sea,': 504, 'look': 505, 'dead': 506, 'disciples': 507, 'returned': 508, 'enter': 509, 'us.': 510, 'righteousness': 511, 'israel;': 512, 'prophet': 513, 'christ,': 514, 'land.': 515, 'number': 516, 'daughters': 517, 'thereof.': 518, 'filled': 519, 'nothing': 520, 'away,': 521, 'silver': 522, 'children,': 523, 'commandment': 524, 'elders': 525, 'days,': 526, 'anger': 527, 'strength': 528, 'become': 529, 'servants,': 530, 'thyself': 531, 'philistines': 532, 'joseph': 533, 'grace': 534, 'door': 535, 'law,': 536, 'men.': 537, 'broken': 538, 'border': 539, 'most': 540, 'priest,': 541, 'remember': 542, 'must': 543, 'break': 544, 'lie': 545, 'hearken': 546, 'burn': 547, 'beside': 548, 'faith': 549, 'eyes,': 550, 'not:': 551, 'shewed': 552, 'sword,': 553, 'cry': 554, 'wrath': 555, 'rejoice': 556, 'works': 557, 'meet': 558, 'rose': 559, 'born': 560, 'slain': 561, 'twelve': 562, 'goeth': 563, 'fifty': 564, 'offerings': 565, 'half': 566, 'offered': 567, 'thee?': 568, 'iniquity': 569, 'places': 570, 'ever': 571, 'wisdom': 572, 'unclean': 573, 'sought': 574, 'maketh': 575, 'month,': 576, 'night': 577, 'name,': 578, 'silver,': 579, 'pharaoh': 580, 'didst': 581, 'rise': 582, 'captain': 583, 'die': 584, 'poor': 585, 'giveth': 586, 'mother': 587, 'smite': 588, 'whither': 589, 'bless': 590, 'abraham': 591, 'voice,': 592, 'wife,': 593, \"man's\": 594, 'me?': 595, 'hosts,': 596, 'wilderness': 597, 'fire,': 598, 'vessels': 599, 'host': 600, 'that,': 601, 'dead,': 602, 'feet': 603, \"lord's\": 604, 'jesus,': 605, 'child': 606, 'yourselves': 607, 'death': 608, 'himself,': 609, 'field': 610, 'prophets': 611, 'seventh': 612, 'mayest': 613, 'slay': 614, 'destroyed': 615, 'seeing': 616, 'fine': 617, 'world': 618, 'leave': 619, 'get': 620, 'living': 621, 'hid': 622, 'war': 623, 'enemies': 624, 'asked': 625, 'peter': 626, 'paul': 627, 'throne': 628, 'family': 629, 'counsel': 630, 'this,': 631, 'sit': 632, 'babylon': 633, 'kill': 634, 'walked': 635, 'numbered': 636, 'time,': 637, 'wherewith': 638, 'open': 639, 'spread': 640, 'servant,': 641, 'stone': 642, 'sing': 643, 'trust': 644, 'became': 645, 'appointed': 646, 'better': 647, 'another,': 648, 'priests,': 649, 'jeremiah': 650, 'earth:': 651, 'not;': 652, 'lift': 653, 'water,': 654, 'wine': 655, 'saying': 656, 'jacob,': 657, 'live': 658, 'opened': 659, 'flesh,': 660, 'here': 661, 'followed': 662, 'believe': 663, 'king.': 664, 'samuel': 665, 'he,': 666, 'river': 667, 'east': 668, 'beasts': 669, 'in,': 670, 'entered': 671, 'reign': 672, 'answered,': 673, 'teach': 674, 'side,': 675, 'babylon,': 676, 'fat': 677, 'looked': 678, 'women': 679, 'command': 680, 'possess': 681, 'woe': 682, 'cubits': 683, 'help': 684, 'brother,': 685, 'valley': 686, 'her.': 687, 'wilderness,': 688, 'witness': 689, 'answer': 690, 'is,': 691, 'truth': 692, 'congregation,': 693, 'night,': 694, 'field,': 695, 'trees': 696, 'i,': 697, 'sweet': 698, 'back': 699, 'peace,': 700, 'knoweth': 701, 'month': 702, 'sabbath': 703, 'temple': 704, 'ask': 705, 'offerings,': 706, 'captains': 707, 'hezekiah': 708, 'life,': 709, 'blood,': 710, 'egypt.': 711, 'mouth,': 712, 'gods': 713, 'ears': 714, 'aaron,': 715, 'worship': 716, 'world,': 717, 'morning': 718, 'caused': 719, 'shut': 720, 'arise,': 721, 'buried': 722, 'bound': 723, 'death.': 724, 'fight': 725, 'tree': 726, 'man.': 727, 'ought': 728, 'feast': 729, 'be,': 730, 'wall': 731, 'joy': 732, 'fled': 733, 'sun': 734, 'service': 735, 'utterly': 736, 'beast': 737, 'knowledge': 738, 'bread,': 739, 'forth,': 740, 'depart': 741, 'him?': 742, 'afraid': 743, 'gods,': 744, 'desire': 745, 'died': 746, 'covered': 747, 'altar,': 748, 'morning,': 749, 'wrought': 750, 'declare': 751, 'people:': 752, 'honour': 753, 'nevertheless': 754, 'saul,': 755, 'christ.': 756, 'south': 757, 'place.': 758, 'prince': 759, 'body': 760, 'heart.': 761, 'families': 762, 'top': 763, 'away.': 764, 'flee': 765, 'oil': 766, 'carry': 767, 'chosen': 768, 'john': 769, 'days.': 770, 'money': 771, 'about,': 772, 'threescore': 773, 'hear,': 774, 'ye,': 775, 'spirit,': 776, 'you;': 777, 'going': 778, 'prepared': 779, 'never': 780, 'arose': 781, 'death,': 782, 'ways': 783, 'wait': 784, 'jonathan': 785, 'head,': 786, 'hands,': 787, 'believed': 788, 'wash': 789, 'drew': 790, 'words,': 791, 'stones': 792, 'verily': 793, 'suffer': 794, 'saith,': 795, 'hope': 796, 'thing,': 797, 'mountains': 798, 'there.': 799, 'lot': 800, 'nations,': 801, 'loved': 802, 'came,': 803, 'levites,': 804, 'sins': 805, 'joab': 806, 'thence': 807, 'woman,': 808, 'ever:': 809, 'years,': 810, 'son.': 811, 'doeth': 812, 'present': 813, 'nigh': 814, 'burned': 815, 'remnant': 816, 'wine,': 817, 'country': 818, 'abraham,': 819, 'arose,': 820, 'us:': 821, 'again.': 822, 'poured': 823, '(for': 824, 'incense': 825, 'presence': 826, 'ready': 827, 'hide': 828, 'there,': 829, 'themselves,': 830, 'times': 831, 'hosts': 832, 'commandments': 833, 'likewise': 834, 'minister': 835, 'heaven.': 836, 'city.': 837, 'charge': 838, 'plague': 839, 'pure': 840, 'tongue': 841, 'everlasting': 842, 'portion': 843, 'face,': 844, 'good,': 845, 'follow': 846, 'ephraim': 847, 'tribes': 848, 'bringeth': 849, 'raised': 850, 'prepare': 851, 'noise': 852, 'prophets,': 853, 'earth;': 854, 'evil,': 855, 'life.': 856, 'pitched': 857, 'small': 858, 'hate': 859, 'spoil': 860, 'houses': 861, 'fire.': 862, 'sound': 863, 'righteousness,': 864, 'jeroboam': 865, 'day:': 866, 'hearkened': 867, 'tenth': 868, 'all.': 869, 'abide': 870, 'firstborn': 871, 'feed': 872, 'eye': 873, 'years.': 874, 'things.': 875, 'people;': 876, 'up.': 877, 'knowest': 878, 'name.': 879, 'nation': 880, 'committed': 881, 'north': 882, 'gates': 883, 'fourth': 884, 'mother,': 885, 'hand:': 886, 'draw': 887, \"mother's\": 888, 'strange': 889, 'oil,': 890, 'understanding': 891, 'coming': 892, 'breadth': 893, 'sore': 894, 'father.': 895, 'come.': 896, 'write': 897, 'taketh': 898, 'commit': 899, 'all,': 900, 'shouldest': 901, 'offering:': 902, 'bowed': 903, 'sheep': 904, 'sin,': 905, 'except': 906, 'out.': 907, 'salvation': 908, 'atonement': 909, 'jordan': 910, 'cattle': 911, 'whereof': 912, 'whence': 913, 'feet,': 914, 'sold': 915, 'thought': 916, 'cover': 917, 'selah.': 918, 'die.': 919, 'land:': 920, 'sware': 921, 'stretched': 922, 'pharaoh,': 923, 'enemies,': 924, 'moses.': 925, 'court': 926, 'lips': 927, 'disciples,': 928, 'beginning': 929, 'wind': 930, 'removed': 931, 'served': 932, 'house:': 933, 'ruler': 934, 'ways,': 935, 'temple,': 936, 'eaten': 937, 'clothed': 938, 'year,': 939, 'jordan,': 940, 'consumed': 941, 'prophet,': 942, 'precious': 943, 'since': 944, 'reason': 945, 'trespass': 946, 'sanctify': 947, 'prophesy': 948, 'taught': 949, 'prayer': 950, 'greater': 951, 'sheep,': 952, 'curse': 953, 'bow': 954, 'so,': 955, 'die,': 956, 'joseph,': 957, 'heed': 958, 'heads': 959, 'written,': 960, 'gospel': 961, 'perfect': 962, 'mountain': 963, 'battle': 964, 'master,': 965, 'led': 966, 'speaketh': 967, 'manasseh': 968, 'beseech': 969, 'camp': 970, 'princes,': 971, 'faithful': 972, 'suburbs,': 973, '1:1': 974, '1:2': 975, '1:3': 976, '1:4': 977, '1:5': 978, '1:6': 979, 'old,': 980, 'wickedness': 981, 'length': 982, 'stranger': 983, 'off,': 984, 'lamb': 985, 'golden': 986, 'messengers': 987, 'thereof:': 988, 'fathers.': 989, 'devour': 990, 'anointed': 991, 'moab': 992, 'captivity': 993, '1:7': 994, '1:8': 995, '1:9': 996, '1:10': 997, 'just': 998, 'house;': 999}\n"
          ]
        }
      ]
    },
    {
      "cell_type": "code",
      "source": [
        "#Step 2: create vocabulary\n",
        "char_to_int = dict((c,i) for i,c in enumerate(most_common_words))\n",
        "int_to_char = dict((i,c) for i,c in enumerate(most_common_words))\n",
        "print(\"Vocabulary:\",int_to_char)"
      ],
      "metadata": {
        "colab": {
          "base_uri": "https://localhost:8080/"
        },
        "id": "IjnB8LtnFM1h",
        "outputId": "58b8f3a5-6884-4e29-9644-cc7718b542b4"
      },
      "execution_count": 6,
      "outputs": [
        {
          "output_type": "stream",
          "name": "stdout",
          "text": [
            "Vocabulary: {0: 'the', 1: 'and', 2: 'of', 3: 'to', 4: 'that', 5: 'in', 6: 'he', 7: 'shall', 8: 'unto', 9: 'for', 10: 'i', 11: 'his', 12: 'a', 13: 'they', 14: 'be', 15: 'is', 16: 'with', 17: 'not', 18: 'all', 19: 'thou', 20: 'lord', 21: 'it', 22: 'thy', 23: 'was', 24: 'which', 25: 'my', 26: 'but', 27: 'their', 28: 'have', 29: 'ye', 30: 'will', 31: 'from', 32: 'as', 33: 'them', 34: 'him', 35: 'are', 36: 'when', 37: 'upon', 38: 'were', 39: 'this', 40: 'by', 41: 'out', 42: 'god', 43: 'said', 44: 'hath', 45: 'then', 46: 'there', 47: 'him,', 48: 'into', 49: 'had', 50: 'came', 51: 'man', 52: 'on', 53: 'up', 54: 'son', 55: 'one', 56: 'we', 57: 'king', 58: 'me', 59: 'your', 60: 'before', 61: 'lord,', 62: 'an', 63: 'said,', 64: 'against', 65: 'shalt', 66: 'them,', 67: 'come', 68: 'if', 69: 'children', 70: 'at', 71: 'so', 72: 'her', 73: 'thee', 74: 'also', 75: 'let', 76: 'no', 77: 'even', 78: 'made', 79: 'saying,', 80: 'went', 81: 'house', 82: 'go', 83: 'every', 84: 'people', 85: 'do', 86: 'thee,', 87: 'because', 88: 'me,', 89: 'saith', 90: 'you', 91: 'our', 92: 'now', 93: 'these', 94: 'after', 95: 'land', 96: 'behold,', 97: 'men', 98: 'or', 99: 'israel', 100: 'therefore', 101: 'o', 102: 'hast', 103: 'day', 104: 'make', 105: 'god,', 106: 'may', 107: 'what', 108: 'she', 109: 'over', 110: 'who', 111: 'did', 112: 'among', 113: 'put', 114: 'thine', 115: 'any', 116: 'neither', 117: 'great', 118: 'hand', 119: 'give', 120: 'take', 121: 'brought', 122: 'down', 123: 'sons', 124: 'you,', 125: 'am', 126: 'him.', 127: 'us', 128: 'according', 129: 'two', 130: 'things', 131: 'should', 132: 'jesus', 133: 'israel,', 134: 'whom', 135: 'nor', 136: 'took', 137: 'forth', 138: 'bring', 139: 'thus', 140: 'know', 141: 'lord.', 142: 'david', 143: 'them.', 144: 'set', 145: 'yet', 146: 'say', 147: 'like', 148: 'sent', 149: 'name', 150: 'away', 151: 'it,', 152: 'mine', 153: 'called', 154: 'heard', 155: 'own', 156: 'word', 157: 'god.', 158: 'days', 159: 'father', 160: 'how', 161: 'more', 162: 'me.', 163: 'people,', 164: 'spake', 165: 'saw', 166: 'holy', 167: 'good', 168: 'hundred', 169: 'cast', 170: 'eat', 171: 'thee.', 172: 'see', 173: 'moses', 174: 'given', 175: 'than', 176: 'many', 177: 'art', 178: 'heart', 179: 'gave', 180: 'those', 181: 'city', 182: 'seven', 183: 'about', 184: 'would', 185: 'three', 186: 'through', 187: 'evil', 188: 'time', 189: 'might', 190: 'it.', 191: 'man,', 192: 'other', 193: 'speak', 194: 'done', 195: 'thousand', 196: 'pass', 197: 'hear', 198: 'place', 199: 'way', 200: 'pass,', 201: 'house,', 202: 'where', 203: 'under', 204: 'answered', 205: 'again', 206: 'without', 207: 'commanded', 208: 'say,', 209: 'judah', 210: 'and,', 211: 'first', 212: 'words', 213: 'offering', 214: 'thing', 215: 'until', 216: 'off', 217: 'burnt', 218: 'found', 219: 'keep', 220: 'both', 221: 'midst', 222: 'toward', 223: 'spirit', 224: 'israel.', 225: 'high', 226: 'himself', 227: 'years', 228: 'none', 229: 'earth', 230: 'fear', 231: 'voice', 232: 'him:', 233: 'day,', 234: 'five', 235: 'thereof', 236: 'yea,', 237: 'been', 238: 'you.', 239: 'cities', 240: 'wherefore', 241: 'dwell', 242: 'cut', 243: 'lord:', 244: 'right', 245: 'round', 246: 'whose', 247: 'thereof,', 248: 'stood', 249: 'priest', 250: 'son,', 251: 'servant', 252: 'them:', 253: 'us,', 254: 'hand,', 255: 'land,', 256: 'four', 257: 'up,', 258: 'judah,', 259: 'same', 260: 'work', 261: 'lord;', 262: 'pray', 263: 'soul', 264: 'men,', 265: 'deliver', 266: 'taken', 267: 'me:', 268: 'being', 269: 'king,', 270: 'hands', 271: 'young', 272: 'blood', 273: 'cause', 274: \"king's\", 275: 'brethren,', 276: 'sin', 277: 'turn', 278: 'surely', 279: 'twenty', 280: 'eyes', 281: 'told', 282: 'law', 283: 'jerusalem,', 284: 'why', 285: 'face', 286: 'servants', 287: 'fire', 288: 'blessed', 289: 'them;', 290: 'glory', 291: 'left', 292: 'city,', 293: 'her,', 294: 'side', 295: 'themselves', 296: 'turned', 297: 'laid', 298: 'kings', 299: 'delivered', 300: 'old', 301: 'father,', 302: 'not,', 303: 'saul', 304: 'chief', 305: 'very', 306: 'gathered', 307: 'earth,', 308: 'much', 309: 'priests', 310: 'year', 311: 'kingdom', 312: 'moses,', 313: 'christ', 314: 'thee:', 315: 'god;', 316: 'another', 317: 'mighty', 318: 'daughter', 319: 'egypt,', 320: 'such', 321: 'destroy', 322: 'jerusalem', 323: 'concerning', 324: 'drink', 325: 'together', 326: 'woman', 327: 'ten', 328: 'end', 329: 'wilt', 330: 'come,', 331: 'love', 332: 'seek', 333: 'tabernacle', 334: 'lay', 335: 'lest', 336: 'can', 337: 'wicked', 338: 'between', 339: 'seen', 340: 'though', 341: 'full', 342: 'peace', 343: 'smote', 344: 'fell', 345: 'offer', 346: 'whole', 347: 'shew', 348: 'send', 349: 'tribe', 350: 'begat', 351: 'little', 352: 'cometh', 353: 'stand', 354: 'flesh', 355: 'save', 356: 'mouth', 357: 'god:', 358: 'mount', 359: 'fathers', 360: 'meat', 361: 'spoken', 362: 'some', 363: 'praise', 364: 'dwelt', 365: 'him;', 366: 'heaven,', 367: 'heaven', 368: 'thee;', 369: 'tell', 370: 'doth', 371: 'david,', 372: 'aaron', 373: 'solomon', 374: 'seed', 375: 'covenant', 376: 'sight', 377: 'day.', 378: 'heart,', 379: 'rest', 380: 'mercy', 381: 'altar', 382: 'behold', 383: 'bread', 384: 'head', 385: 'inhabitants', 386: 'life', 387: 'bear', 388: 'people.', 389: 'strong', 390: 'thou,', 391: 'brethren', 392: 'written', 393: 'fall', 394: 'offering,', 395: 'earth.', 396: 'return', 397: 'having', 398: 'part', 399: 'serve', 400: 'slew', 401: 'six', 402: 'jacob', 403: 'fathers,', 404: 'brother', 405: 'certain', 406: 'sat', 407: 'gone', 408: 'only', 409: 'princes', 410: 'waters', 411: 'call', 412: 'while', 413: 'known', 414: 'walk', 415: 'not.', 416: 'above', 417: 'things,', 418: 'nations', 419: 'ever.', 420: 'whosoever', 421: 'down,', 422: 'angel', 423: 'cannot', 424: 'congregation', 425: 'wise', 426: 'it:', 427: 'ark', 428: 'me;', 429: 'power', 430: 'water', 431: 'bare', 432: 'well', 433: 'out,', 434: 'began', 435: 'gold,', 436: 'sword', 437: 'hold', 438: 'jerusalem.', 439: 'within', 440: 'till', 441: 'whether', 442: 'book', 443: 'reigned', 444: 'third', 445: 'wherein', 446: 'wife', 447: 'kept', 448: 'multitude', 449: 'sacrifice', 450: 'receive', 451: 'sons,', 452: 'could', 453: 'gate', 454: 'long', 455: 'knew', 456: 'israel:', 457: 'light', 458: 'gather', 459: 'house.', 460: 'throughout', 461: 'judge', 462: 'joshua', 463: 'thirty', 464: 'it;', 465: 'righteous', 466: 'departed', 467: 'passed', 468: 'lifted', 469: 'again,', 470: 'cried', 471: 'forty', 472: 'judgment', 473: 'fruit', 474: 'manner', 475: 'far', 476: 'you:', 477: 'build', 478: 'egypt', 479: 'sea', 480: 'able', 481: 'built', 482: 'place,', 483: 'whatsoever', 484: 'find', 485: 'moreover', 486: 'second', 487: 'together,', 488: 'received', 489: 'lo,', 490: 'also,', 491: 'hand.', 492: 'go,', 493: 'now,', 494: 'therefore,', 495: 'levites', 496: 'gold', 497: 'inheritance', 498: 'new', 499: 'way,', 500: \"father's\", 501: 'near', 502: 'carried', 503: 'jews', 504: 'sea,', 505: 'look', 506: 'dead', 507: 'disciples', 508: 'returned', 509: 'enter', 510: 'us.', 511: 'righteousness', 512: 'israel;', 513: 'prophet', 514: 'christ,', 515: 'land.', 516: 'number', 517: 'daughters', 518: 'thereof.', 519: 'filled', 520: 'nothing', 521: 'away,', 522: 'silver', 523: 'children,', 524: 'commandment', 525: 'elders', 526: 'days,', 527: 'anger', 528: 'strength', 529: 'become', 530: 'servants,', 531: 'thyself', 532: 'philistines', 533: 'joseph', 534: 'grace', 535: 'door', 536: 'law,', 537: 'men.', 538: 'broken', 539: 'border', 540: 'most', 541: 'priest,', 542: 'remember', 543: 'must', 544: 'break', 545: 'lie', 546: 'hearken', 547: 'burn', 548: 'beside', 549: 'faith', 550: 'eyes,', 551: 'not:', 552: 'shewed', 553: 'sword,', 554: 'cry', 555: 'wrath', 556: 'rejoice', 557: 'works', 558: 'meet', 559: 'rose', 560: 'born', 561: 'slain', 562: 'twelve', 563: 'goeth', 564: 'fifty', 565: 'offerings', 566: 'half', 567: 'offered', 568: 'thee?', 569: 'iniquity', 570: 'places', 571: 'ever', 572: 'wisdom', 573: 'unclean', 574: 'sought', 575: 'maketh', 576: 'month,', 577: 'night', 578: 'name,', 579: 'silver,', 580: 'pharaoh', 581: 'didst', 582: 'rise', 583: 'captain', 584: 'die', 585: 'poor', 586: 'giveth', 587: 'mother', 588: 'smite', 589: 'whither', 590: 'bless', 591: 'abraham', 592: 'voice,', 593: 'wife,', 594: \"man's\", 595: 'me?', 596: 'hosts,', 597: 'wilderness', 598: 'fire,', 599: 'vessels', 600: 'host', 601: 'that,', 602: 'dead,', 603: 'feet', 604: \"lord's\", 605: 'jesus,', 606: 'child', 607: 'yourselves', 608: 'death', 609: 'himself,', 610: 'field', 611: 'prophets', 612: 'seventh', 613: 'mayest', 614: 'slay', 615: 'destroyed', 616: 'seeing', 617: 'fine', 618: 'world', 619: 'leave', 620: 'get', 621: 'living', 622: 'hid', 623: 'war', 624: 'enemies', 625: 'asked', 626: 'peter', 627: 'paul', 628: 'throne', 629: 'family', 630: 'counsel', 631: 'this,', 632: 'sit', 633: 'babylon', 634: 'kill', 635: 'walked', 636: 'numbered', 637: 'time,', 638: 'wherewith', 639: 'open', 640: 'spread', 641: 'servant,', 642: 'stone', 643: 'sing', 644: 'trust', 645: 'became', 646: 'appointed', 647: 'better', 648: 'another,', 649: 'priests,', 650: 'jeremiah', 651: 'earth:', 652: 'not;', 653: 'lift', 654: 'water,', 655: 'wine', 656: 'saying', 657: 'jacob,', 658: 'live', 659: 'opened', 660: 'flesh,', 661: 'here', 662: 'followed', 663: 'believe', 664: 'king.', 665: 'samuel', 666: 'he,', 667: 'river', 668: 'east', 669: 'beasts', 670: 'in,', 671: 'entered', 672: 'reign', 673: 'answered,', 674: 'teach', 675: 'side,', 676: 'babylon,', 677: 'fat', 678: 'looked', 679: 'women', 680: 'command', 681: 'possess', 682: 'woe', 683: 'cubits', 684: 'help', 685: 'brother,', 686: 'valley', 687: 'her.', 688: 'wilderness,', 689: 'witness', 690: 'answer', 691: 'is,', 692: 'truth', 693: 'congregation,', 694: 'night,', 695: 'field,', 696: 'trees', 697: 'i,', 698: 'sweet', 699: 'back', 700: 'peace,', 701: 'knoweth', 702: 'month', 703: 'sabbath', 704: 'temple', 705: 'ask', 706: 'offerings,', 707: 'captains', 708: 'hezekiah', 709: 'life,', 710: 'blood,', 711: 'egypt.', 712: 'mouth,', 713: 'gods', 714: 'ears', 715: 'aaron,', 716: 'worship', 717: 'world,', 718: 'morning', 719: 'caused', 720: 'shut', 721: 'arise,', 722: 'buried', 723: 'bound', 724: 'death.', 725: 'fight', 726: 'tree', 727: 'man.', 728: 'ought', 729: 'feast', 730: 'be,', 731: 'wall', 732: 'joy', 733: 'fled', 734: 'sun', 735: 'service', 736: 'utterly', 737: 'beast', 738: 'knowledge', 739: 'bread,', 740: 'forth,', 741: 'depart', 742: 'him?', 743: 'afraid', 744: 'gods,', 745: 'desire', 746: 'died', 747: 'covered', 748: 'altar,', 749: 'morning,', 750: 'wrought', 751: 'declare', 752: 'people:', 753: 'honour', 754: 'nevertheless', 755: 'saul,', 756: 'christ.', 757: 'south', 758: 'place.', 759: 'prince', 760: 'body', 761: 'heart.', 762: 'families', 763: 'top', 764: 'away.', 765: 'flee', 766: 'oil', 767: 'carry', 768: 'chosen', 769: 'john', 770: 'days.', 771: 'money', 772: 'about,', 773: 'threescore', 774: 'hear,', 775: 'ye,', 776: 'spirit,', 777: 'you;', 778: 'going', 779: 'prepared', 780: 'never', 781: 'arose', 782: 'death,', 783: 'ways', 784: 'wait', 785: 'jonathan', 786: 'head,', 787: 'hands,', 788: 'believed', 789: 'wash', 790: 'drew', 791: 'words,', 792: 'stones', 793: 'verily', 794: 'suffer', 795: 'saith,', 796: 'hope', 797: 'thing,', 798: 'mountains', 799: 'there.', 800: 'lot', 801: 'nations,', 802: 'loved', 803: 'came,', 804: 'levites,', 805: 'sins', 806: 'joab', 807: 'thence', 808: 'woman,', 809: 'ever:', 810: 'years,', 811: 'son.', 812: 'doeth', 813: 'present', 814: 'nigh', 815: 'burned', 816: 'remnant', 817: 'wine,', 818: 'country', 819: 'abraham,', 820: 'arose,', 821: 'us:', 822: 'again.', 823: 'poured', 824: '(for', 825: 'incense', 826: 'presence', 827: 'ready', 828: 'hide', 829: 'there,', 830: 'themselves,', 831: 'times', 832: 'hosts', 833: 'commandments', 834: 'likewise', 835: 'minister', 836: 'heaven.', 837: 'city.', 838: 'charge', 839: 'plague', 840: 'pure', 841: 'tongue', 842: 'everlasting', 843: 'portion', 844: 'face,', 845: 'good,', 846: 'follow', 847: 'ephraim', 848: 'tribes', 849: 'bringeth', 850: 'raised', 851: 'prepare', 852: 'noise', 853: 'prophets,', 854: 'earth;', 855: 'evil,', 856: 'life.', 857: 'pitched', 858: 'small', 859: 'hate', 860: 'spoil', 861: 'houses', 862: 'fire.', 863: 'sound', 864: 'righteousness,', 865: 'jeroboam', 866: 'day:', 867: 'hearkened', 868: 'tenth', 869: 'all.', 870: 'abide', 871: 'firstborn', 872: 'feed', 873: 'eye', 874: 'years.', 875: 'things.', 876: 'people;', 877: 'up.', 878: 'knowest', 879: 'name.', 880: 'nation', 881: 'committed', 882: 'north', 883: 'gates', 884: 'fourth', 885: 'mother,', 886: 'hand:', 887: 'draw', 888: \"mother's\", 889: 'strange', 890: 'oil,', 891: 'understanding', 892: 'coming', 893: 'breadth', 894: 'sore', 895: 'father.', 896: 'come.', 897: 'write', 898: 'taketh', 899: 'commit', 900: 'all,', 901: 'shouldest', 902: 'offering:', 903: 'bowed', 904: 'sheep', 905: 'sin,', 906: 'except', 907: 'out.', 908: 'salvation', 909: 'atonement', 910: 'jordan', 911: 'cattle', 912: 'whereof', 913: 'whence', 914: 'feet,', 915: 'sold', 916: 'thought', 917: 'cover', 918: 'selah.', 919: 'die.', 920: 'land:', 921: 'sware', 922: 'stretched', 923: 'pharaoh,', 924: 'enemies,', 925: 'moses.', 926: 'court', 927: 'lips', 928: 'disciples,', 929: 'beginning', 930: 'wind', 931: 'removed', 932: 'served', 933: 'house:', 934: 'ruler', 935: 'ways,', 936: 'temple,', 937: 'eaten', 938: 'clothed', 939: 'year,', 940: 'jordan,', 941: 'consumed', 942: 'prophet,', 943: 'precious', 944: 'since', 945: 'reason', 946: 'trespass', 947: 'sanctify', 948: 'prophesy', 949: 'taught', 950: 'prayer', 951: 'greater', 952: 'sheep,', 953: 'curse', 954: 'bow', 955: 'so,', 956: 'die,', 957: 'joseph,', 958: 'heed', 959: 'heads', 960: 'written,', 961: 'gospel', 962: 'perfect', 963: 'mountain', 964: 'battle', 965: 'master,', 966: 'led', 967: 'speaketh', 968: 'manasseh', 969: 'beseech', 970: 'camp', 971: 'princes,', 972: 'faithful', 973: 'suburbs,', 974: '1:1', 975: '1:2', 976: '1:3', 977: '1:4', 978: '1:5', 979: '1:6', 980: 'old,', 981: 'wickedness', 982: 'length', 983: 'stranger', 984: 'off,', 985: 'lamb', 986: 'golden', 987: 'messengers', 988: 'thereof:', 989: 'fathers.', 990: 'devour', 991: 'anointed', 992: 'moab', 993: 'captivity', 994: '1:7', 995: '1:8', 996: '1:9', 997: '1:10', 998: 'just', 999: 'house;'}\n"
          ]
        }
      ]
    },
    {
      "cell_type": "code",
      "source": [
        "freq = [word_counts.get(key) for key in list(int_to_char.values())]"
      ],
      "metadata": {
        "id": "jCz6VdnaL7k8"
      },
      "execution_count": 7,
      "outputs": []
    },
    {
      "cell_type": "code",
      "source": [
        "#remove uncommon token from bible text\n",
        "def keep_tokens(tokens, tokens_to_keep):\n",
        "    tokens_to_keep_set = set(tokens_to_keep)\n",
        "    return [token for token in tokens if token in tokens_to_keep_set]\n",
        "\n",
        "new_text = keep_tokens(tokens,most_common_words)\n",
        "\n",
        "#translate bible into our vocabulary                  \n",
        "trans_text = np.vectorize(lambda x: char_to_int.get(x, 0))(new_text)\n"
      ],
      "metadata": {
        "id": "kU-dtV2CHFzW"
      },
      "execution_count": 8,
      "outputs": []
    },
    {
      "cell_type": "code",
      "source": [
        "def create_pairs(tokens, word_index, window_size=4):\n",
        "    pairs = []\n",
        "    for i, word in enumerate(tokens):\n",
        "        target_indices = [j for j in range(max(1, i - window_size), min(len(tokens), i + window_size + 1)) if j != i][:window_size]\n",
        "        for j in target_indices:\n",
        "            input_word = word_index.get(tokens[i], 1)\n",
        "            target_word = word_index.get(tokens[j], 1)\n",
        "            pairs.append((input_word, target_word))\n",
        "    return pairs"
      ],
      "metadata": {
        "id": "kcRNQmCD9nfX"
      },
      "execution_count": 9,
      "outputs": []
    },
    {
      "cell_type": "code",
      "source": [
        "# Create input-target pairs\n",
        "pairs = create_pairs(tokens, word_index)"
      ],
      "metadata": {
        "id": "DBGYCZAw9o0w"
      },
      "execution_count": 10,
      "outputs": []
    },
    {
      "cell_type": "code",
      "source": [
        "# Print the first 10 pairs\n",
        "print(pairs[:10])"
      ],
      "metadata": {
        "colab": {
          "base_uri": "https://localhost:8080/"
        },
        "id": "nPPnapip9uQG",
        "outputId": "bbf96952-0b9e-40b0-a9b9-219d9d82315f"
      },
      "execution_count": 11,
      "outputs": [
        {
          "output_type": "stream",
          "name": "stdout",
          "text": [
            "[(0, 211), (0, 442), (0, 2), (0, 1), (211, 442), (211, 2), (211, 1), (211, 153), (442, 211), (442, 2)]\n"
          ]
        }
      ]
    },
    {
      "cell_type": "code",
      "source": [
        "# convert the pairs into a tensor of shape (num_pairs, 2)\n",
        "#pairs = tf.convert_to_tensor(pairs, dtype=tf.int64)\n",
        "\n",
        "\n",
        "# create a dataset from the pairs tensor\n",
        "train_ds = tf.data.Dataset.from_tensor_slices(pairs)\n",
        "\n",
        "# shuffle the batches\n",
        "train_ds = train_ds.shuffle(1000)\n",
        "\n",
        "# batch the dataset\n",
        "batch_size = 128\n",
        "train_ds = train_ds.batch(batch_size)\n",
        "train_ds = train_ds.prefetch(20).cache()"
      ],
      "metadata": {
        "id": "ANhfH9tAFJ_8"
      },
      "execution_count": 12,
      "outputs": []
    },
    {
      "cell_type": "code",
      "source": [
        "class SkipGram(tf.keras.Model):\n",
        "  \"\"\"\n",
        "  Encoder class\n",
        "  Defines a model using LSTM layers and read_in and output layers to make a final prediction, inheriting from tf.keras.Model.\n",
        "  \"\"\"\n",
        "\n",
        "  def __init__(self, number_of_words, embedding_size):\n",
        "    \"\"\" \n",
        "    Initializes the model.\n",
        "    In the transition layer we reduce the number of channels to half of the existing channels.\n",
        "    Parameters\n",
        "    ----------\n",
        "    latent_dim : int\n",
        "         size of the embedding\n",
        "    \"\"\"\n",
        "\n",
        "    super(SkipGram, self).__init__()\n",
        "    self.number_of_words = number_of_words\n",
        "    self.embedding_size = embedding_size\n",
        "\n",
        "  def build(self, input_shape):\n",
        "    self.embedding_matrix = self.add_weight(shape=(self.number_of_words, self.embedding_size))\n",
        "    self.scores_matrix = self.add_weight(shape=(self.number_of_words, self.embedding_size))\n",
        "    self.scores_bias = self.add_weight(shape=(self.number_of_words,), initializer=\"zeros\")\n",
        "\n",
        "  #@tf.function\n",
        "  def call(self, inputs, labels = None):\n",
        "    \"\"\" \n",
        "    Computes a forward step with the given data\n",
        "    Parameters\n",
        "    ----------\n",
        "    inputs : tf.Tensor\n",
        "        the input for the model\n",
        "   \n",
        "    Returns\n",
        "    -------\n",
        "    x : tf.Tensor\n",
        "        the output of the model which is only the last time step\n",
        "    \"\"\"\n",
        "    embeddings = tf.nn.embedding_lookup(self.embedding_matrix, inputs)\n",
        "    labels = tf.expand_dims(labels, axis=-1)\n",
        "    \n",
        "    labels = tf.cast(labels, dtype=tf.int64)\n",
        "    sampler = tf.nn.fixed_unigram_candidate_sampler(\n",
        "        labels,\n",
        "        num_true=1,\n",
        "        num_sampled=256,\n",
        "        unique=True,\n",
        "        range_max=self.number_of_words,\n",
        "        unigrams=freq)\n",
        "\n",
        "    loss = tf.nn.nce_loss(\n",
        "        weights = self.scores_matrix,\n",
        "        biases = self.scores_bias,\n",
        "        labels = labels,\n",
        "        inputs = embeddings,\n",
        "        num_sampled = 256,\n",
        "        num_classes = self.number_of_words,\n",
        "        sampled_values = sampler\n",
        "    )\n",
        "\n",
        "    loss = tf.reduce_mean(loss)\n",
        "    return loss"
      ],
      "metadata": {
        "id": "M7xMlP6uFWUp"
      },
      "execution_count": 13,
      "outputs": []
    },
    {
      "cell_type": "code",
      "source": [
        "#calculate and pring the nearest neighbours according to the cosine similarity of each epoch\n",
        "def print_nearest_neighbours(tracked_words, k, embeddings):\n",
        "  \n",
        "  scaled_embeddings = embeddings / np.sqrt(np.sum(embeddings**2, axis=1, keepdims=True))\n",
        "  for i in range(len(tracked_words)):\n",
        "    word_index = char_to_int[tracked_words[i]]\n",
        "    embedding = scaled_embeddings[word_index, :]\n",
        "    cosine_similarity = np.matmul(scaled_embeddings, embedding)\n",
        "    k_nearest_neighbours = np.argsort(-cosine_similarity)[:k]\n",
        "    print(\"Nearest neighbours of \" + tf.compat.as_str_any(tracked_words[i]) + \" are: \")\n",
        "   \n",
        "    for i in k_nearest_neighbours:\n",
        "      print(tf.compat.as_str_any(int_to_char[i]))"
      ],
      "metadata": {
        "id": "Jaf3qSg3KbW7"
      },
      "execution_count": 14,
      "outputs": []
    },
    {
      "cell_type": "code",
      "source": [
        "#@tf.function\n",
        "def train_step(model, input, target, optimizer):\n",
        "  \"\"\" Computes a train step with the given data\n",
        "  Parameters\n",
        "  ----------\n",
        "  model : respective model class (super: tf.keras.Model)\n",
        "    the model to perform train step\n",
        "  inputs : tf.Tensor\n",
        "    the input for the model\n",
        "  target : tf.Tensor\n",
        "    the target label\n",
        "  loss_function : tf.keras.losses\n",
        "    given loss function of respective tensorflow classes\n",
        "  optimizer : tf.keras.optimizers\n",
        "    given optimizer of respective tensorflow classes\n",
        "  Returns\n",
        "  -------\n",
        "  loss : tf.Tensor\n",
        "      the current loss of the model\n",
        "  \"\"\"\n",
        "  with tf.GradientTape() as tape:\n",
        "     # Ensure that target is a tensor of shape (batch_size, 1)\n",
        "    target = tf.expand_dims(target, axis=-1)\n",
        "    loss = model(input, target)\n",
        "    #loss = model(input)\n",
        "    gradients = tape.gradient(loss, model.trainable_variables)\n",
        "  optimizer.apply_gradients(zip(gradients, model.trainable_variables))\n",
        "  return loss"
      ],
      "metadata": {
        "id": "2NrR_FwLKcY1"
      },
      "execution_count": 15,
      "outputs": []
    },
    {
      "cell_type": "code",
      "source": [
        "tf.keras.backend.clear_session()\n",
        "\n",
        "# Definition of the hyperparameters\n",
        "num_epochs = 5\n",
        "learning_rate = tf.constant(0.01, dtype=tf.float32)\n",
        "\n",
        "# Tracked words and number of neighbours that will be shown\n",
        "tracked_words = [b'holy', b'father', b'wine', b'poison', b'love', b'strong', b'day']\n",
        "k = 10\n",
        "\n",
        "number_of_words = vocab_size\n",
        "# Initialize the model\n",
        "model = SkipGram(number_of_words, embedding_size)\n",
        "\n",
        "# Initialize the optimizer:\n",
        "optimizer = tf.keras.optimizers.Adam(learning_rate)\n",
        "\n",
        "# Initialize numpy arrays for later visualization\n",
        "train_losses = np.empty(0)\n",
        "\n",
        "# check how model performs on train data once before we begin\n",
        "#train_loss = test(model, train_ds, global_loss_function)\n",
        "#train_losses = np.append(train_losses, train_loss)\n",
        "epoch_loss_agg = np.empty(0)\n",
        "# We train for num_epochs epochs.\n",
        "for epoch in range(num_epochs):\n",
        "    # Display accuracy at the beginning of each epoch\n",
        "    #print(f'Epoch: {str(epoch)} starting with test loss {test_losses[-1]}')\n",
        "\n",
        "    for example in train_ds:\n",
        "      input = example[:-1]\n",
        "      target = example[-1]\n",
        "      input = tf.reshape(input, [-1])\n",
        "      train_loss = train_step(model, input, target, optimizer)\n",
        "      epoch_loss_agg = np.append(epoch_loss_agg, train_loss)\n",
        "        \n",
        "\n",
        "    # Track training loss\n",
        "    train_losses = np.append(train_losses, tf.reduce_mean(train_loss))\n",
        "    \n",
        "    # Display train loss\n",
        "    print(f'Epoch: {str(epoch)} finishing with train loss {train_losses[-1]}')\n",
        "    print(\" \")\n",
        "\n",
        "    # Print nearest neighbours\n",
        "    embeddings = model.trainable_variables[0].numpy()\n",
        "    print_nearest_neighbours(tracked_words, k, embeddings)\n",
        "    print(\" \")\n",
        "\n",
        "# Visualize accuracy and loss for training and test data\n",
        "plt.figure()\n",
        "line1, = plt.plot(train_losses)\n",
        "plt.xlabel(\"Training steps\")\n",
        "plt.ylabel(\"Loss\")\n",
        "plt.legend((line1), (\"training loss\"))\n",
        "plt.show()"
      ],
      "metadata": {
        "id": "tbxUeLA9EHZa"
      },
      "execution_count": null,
      "outputs": []
    }
  ]
}